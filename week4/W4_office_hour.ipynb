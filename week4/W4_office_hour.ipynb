{
 "cells": [
  {
   "attachments": {},
   "cell_type": "markdown",
   "metadata": {},
   "source": [
    "# Week 3 Office Hours: Intro to Functions\n",
    "\n",
    "- Building intuition on how to create and use functions (and when to use them)"
   ]
  },
  {
   "attachments": {},
   "cell_type": "markdown",
   "metadata": {},
   "source": [
    "## Basic Definitions\n",
    "\n",
    "- Function: modules that manipulates data (can be Python-defined or user-defined)\n",
    "- Call expression: applies function to some arguments\n",
    "\n",
    "- Modules: Python libraries grouping functions by similar categories and uses (like Pandas or NumPy)\n",
    "\n",
    "- Names: binds a name to a value using an assignment statement (=)\n",
    "    \n",
    "- Environment: memory that keeps tracks of names, bindings, and values"
   ]
  },
  {
   "cell_type": "markdown",
   "metadata": {},
   "source": [
    "## Examples of Functions"
   ]
  },
  {
   "cell_type": "code",
   "execution_count": 2,
   "metadata": {},
   "outputs": [
    {
     "data": {
      "text/plain": [
       "7"
      ]
     },
     "execution_count": 2,
     "metadata": {},
     "output_type": "execute_result"
    }
   ],
   "source": [
    "max(5, 7)                 # Python-defined function"
   ]
  },
  {
   "cell_type": "code",
   "execution_count": 3,
   "metadata": {},
   "outputs": [
    {
     "name": "stdout",
     "output_type": "stream",
     "text": [
      "\u001b[0;31mDocstring:\u001b[0m\n",
      "max(iterable, *[, default=obj, key=func]) -> value\n",
      "max(arg1, arg2, *args, *[, key=func]) -> value\n",
      "\n",
      "With a single iterable argument, return its biggest item. The\n",
      "default keyword-only argument specifies an object to return if\n",
      "the provided iterable is empty.\n",
      "With two or more arguments, return the largest argument.\n",
      "\u001b[0;31mType:\u001b[0m      builtin_function_or_method\n"
     ]
    }
   ],
   "source": [
    "max??"
   ]
  },
  {
   "attachments": {},
   "cell_type": "markdown",
   "metadata": {},
   "source": [
    "### Structure of user-defined functions\n",
    "\n",
    "Consists of a def statement with a name and any formal parameters. Def statement ends with a colon.\n",
    "\n",
    "The next lines within the function are indented."
   ]
  },
  {
   "cell_type": "code",
   "execution_count": 4,
   "metadata": {},
   "outputs": [],
   "source": [
    "# Structure:\n",
    "# def \"name\"(\"formal parameters\"):\n",
    "    # return \"return expression\""
   ]
  },
  {
   "attachments": {},
   "cell_type": "markdown",
   "metadata": {},
   "source": [
    "Function names should be descriptive (should tell the user what you are doing) and should typically be lower-cased and separated by underscores.\n",
    "\n",
    "Parameter names follow the same rules as function names.\n",
    "\n",
    "It is also best practice to include a docstring (so the user knows what the function is doing.)"
   ]
  },
  {
   "cell_type": "code",
   "execution_count": 5,
   "metadata": {},
   "outputs": [
    {
     "data": {
      "text/plain": [
       "8"
      ]
     },
     "execution_count": 5,
     "metadata": {},
     "output_type": "execute_result"
    }
   ],
   "source": [
    "def return_max(a, b):\n",
    "    \"\"\" Return the largest integer out of a and b.\n",
    "    \n",
    "    a -- first integer\n",
    "    b -- second integer\n",
    "    \"\"\"\n",
    "    if a > b:\n",
    "        return a\n",
    "    return b\n",
    "\n",
    "return_max(8, 3)               # function-call"
   ]
  },
  {
   "cell_type": "code",
   "execution_count": 6,
   "metadata": {},
   "outputs": [
    {
     "name": "stdout",
     "output_type": "stream",
     "text": [
      "\u001b[0;31mSignature:\u001b[0m \u001b[0mreturn_max\u001b[0m\u001b[0;34m(\u001b[0m\u001b[0ma\u001b[0m\u001b[0;34m,\u001b[0m \u001b[0mb\u001b[0m\u001b[0;34m)\u001b[0m\u001b[0;34m\u001b[0m\u001b[0;34m\u001b[0m\u001b[0m\n",
      "\u001b[0;31mSource:\u001b[0m   \n",
      "\u001b[0;32mdef\u001b[0m \u001b[0mreturn_max\u001b[0m\u001b[0;34m(\u001b[0m\u001b[0ma\u001b[0m\u001b[0;34m,\u001b[0m \u001b[0mb\u001b[0m\u001b[0;34m)\u001b[0m\u001b[0;34m:\u001b[0m\u001b[0;34m\u001b[0m\n",
      "\u001b[0;34m\u001b[0m    \u001b[0;34m\"\"\" Return the largest integer out of a and b.\u001b[0m\n",
      "\u001b[0;34m    \u001b[0m\n",
      "\u001b[0;34m    a -- first integer\u001b[0m\n",
      "\u001b[0;34m    b -- second integer\u001b[0m\n",
      "\u001b[0;34m    \"\"\"\u001b[0m\u001b[0;34m\u001b[0m\n",
      "\u001b[0;34m\u001b[0m    \u001b[0;32mif\u001b[0m \u001b[0ma\u001b[0m \u001b[0;34m>\u001b[0m \u001b[0mb\u001b[0m\u001b[0;34m:\u001b[0m\u001b[0;34m\u001b[0m\n",
      "\u001b[0;34m\u001b[0m        \u001b[0;32mreturn\u001b[0m \u001b[0ma\u001b[0m\u001b[0;34m\u001b[0m\n",
      "\u001b[0;34m\u001b[0m    \u001b[0;32mreturn\u001b[0m \u001b[0mb\u001b[0m\u001b[0;34m\u001b[0m\u001b[0;34m\u001b[0m\u001b[0m\n",
      "\u001b[0;31mFile:\u001b[0m      /var/folders/jg/wt4kcxs904q8kkrr2shjmz980000gn/T/ipykernel_56293/2168837202.py\n",
      "\u001b[0;31mType:\u001b[0m      function\n"
     ]
    }
   ],
   "source": [
    "return_max??"
   ]
  },
  {
   "attachments": {},
   "cell_type": "markdown",
   "metadata": {},
   "source": [
    "### Difference between \"return\" and \"print\"\n",
    "\n",
    "- Return: assigns the result of the function intrinsically to the function name (does not print out for users). Return is a controlled vocabulary in Python. \n",
    "\n",
    "- Print: simply prints out the result (does not assign function to anything), print is a function itself\n",
    "\n",
    "If you want to use a function later in calculations, it is best to return a value."
   ]
  },
  {
   "cell_type": "code",
   "execution_count": 7,
   "metadata": {},
   "outputs": [
    {
     "data": {
      "text/plain": [
       "64"
      ]
     },
     "execution_count": 7,
     "metadata": {},
     "output_type": "execute_result"
    }
   ],
   "source": [
    "def square(x):\n",
    "    return x * x\n",
    "\n",
    "square(8)"
   ]
  },
  {
   "cell_type": "code",
   "execution_count": 8,
   "metadata": {},
   "outputs": [
    {
     "name": "stdout",
     "output_type": "stream",
     "text": [
      "64\n"
     ]
    }
   ],
   "source": [
    "result = square(8)\n",
    "print(result)"
   ]
  },
  {
   "cell_type": "code",
   "execution_count": 9,
   "metadata": {},
   "outputs": [
    {
     "name": "stdout",
     "output_type": "stream",
     "text": [
      "64\n"
     ]
    }
   ],
   "source": [
    "def print_square(x):\n",
    "    print(x * x)\n",
    "\n",
    "print_square(8)"
   ]
  },
  {
   "cell_type": "code",
   "execution_count": 10,
   "metadata": {},
   "outputs": [
    {
     "name": "stdout",
     "output_type": "stream",
     "text": [
      "64\n",
      "None\n"
     ]
    }
   ],
   "source": [
    "result = print_square(8)\n",
    "print(result)"
   ]
  },
  {
   "attachments": {},
   "cell_type": "markdown",
   "metadata": {},
   "source": [
    "## Variable Assignments"
   ]
  },
  {
   "cell_type": "code",
   "execution_count": 11,
   "metadata": {},
   "outputs": [],
   "source": [
    "print_max = \"hello world\"        # be careful when assigning variable names to values in the same environment"
   ]
  },
  {
   "cell_type": "code",
   "execution_count": 12,
   "metadata": {},
   "outputs": [
    {
     "data": {
      "text/plain": [
       "'hello world'"
      ]
     },
     "execution_count": 12,
     "metadata": {},
     "output_type": "execute_result"
    }
   ],
   "source": [
    "print_max"
   ]
  },
  {
   "cell_type": "code",
   "execution_count": 13,
   "metadata": {},
   "outputs": [
    {
     "name": "stdout",
     "output_type": "stream",
     "text": [
      "hello world\n"
     ]
    }
   ],
   "source": [
    "# assigning names to more than one value\n",
    "\n",
    "f = \"hello\"\n",
    "g = \"world\"\n",
    "\n",
    "print(f, g)"
   ]
  },
  {
   "cell_type": "code",
   "execution_count": 14,
   "metadata": {},
   "outputs": [
    {
     "name": "stdout",
     "output_type": "stream",
     "text": [
      "hello world\n"
     ]
    }
   ],
   "source": [
    "# more efficient and Pythonic way\n",
    "\n",
    "a, b = \"hello\", \"world\"\n",
    "print(a, b)"
   ]
  },
  {
   "attachments": {},
   "cell_type": "markdown",
   "metadata": {},
   "source": [
    "## When to use functions\n",
    "\n",
    "1. When you need to break down a complicated program\n",
    "\n",
    "2. When you need to perform the same procedure many times"
   ]
  },
  {
   "attachments": {},
   "cell_type": "markdown",
   "metadata": {},
   "source": [
    "## Environments\n",
    "\n",
    "- Local environment: contains the memory of only the names, values, and bindings within that function or line of code\n",
    "\n",
    "- Global environment: contains the memory of all names, values, and bindings (including all functions in that environment)"
   ]
  },
  {
   "cell_type": "code",
   "execution_count": null,
   "metadata": {},
   "outputs": [],
   "source": [
    "global_x = 8\n",
    "\n",
    "def print_x():\n",
    "    local_x = 4\n",
    "    return local_x\n",
    "    \n",
    "print(print_x())\n",
    "print(global_x)"
   ]
  },
  {
   "attachments": {},
   "cell_type": "markdown",
   "metadata": {},
   "source": [
    "## Breaking Down Week 4: In-Class Example"
   ]
  },
  {
   "cell_type": "code",
   "execution_count": null,
   "metadata": {},
   "outputs": [],
   "source": [
    "# import modules\n",
    "import numpy as np\n",
    "import matplotlib.pyplot as plt\n",
    "import pandas as pd"
   ]
  },
  {
   "cell_type": "code",
   "execution_count": null,
   "metadata": {},
   "outputs": [],
   "source": [
    "def data_detrend(dist_values, mag_values, poly_order):\n",
    "    \"\"\"\n",
    "    Function to fit a polynomial to data, and then remove the \n",
    "    fitted polynomial\n",
    "    \n",
    "    Parameters\n",
    "    --------------\n",
    "    dist_values : distance along profile in km\n",
    "    mag_values : magnetic data in nT\n",
    "    poly_order : integer indicating the order of the polynomial fit\n",
    "        0 (mean), 1 (line), 2 (parabola), 3, etc.\n",
    "    \n",
    "    Returns\n",
    "    ---------------\n",
    "    model (an array of modeled data), anomaly (an array of corrected data), rms (root mean square error)\n",
    "    \n",
    "    usage:\n",
    "    array1, array2, value=data_detrend(dist_values, mag_values, poly_order)\n",
    "    \"\"\"\n",
    "    a = np.polyfit(dist_values,mag_values,poly_order)   #This finds the coefficients for polynomial of specified order\n",
    "    b = np.poly1d(a)                                    #This finds a function from which to determine model values\n",
    "    model = b(dist_values)                              #model array\n",
    "    anomaly = mag_values - model                        #anomaly array of data corrected by the model\n",
    "    \n",
    "    #RMS error\n",
    "    rms = np.sqrt(np.mean(anomaly**2))\n",
    "    \n",
    "    return model, anomaly, rms"
   ]
  },
  {
   "cell_type": "code",
   "execution_count": null,
   "metadata": {},
   "outputs": [],
   "source": [
    "random_dist = np.random.randint(500, 1000, size=8)\n",
    "mag_values = np.random.randint(5000, 100000, size=8)\n",
    "poly_order = 1\n",
    "\n",
    "data_detrend(random_dist, mag_values, poly_order)"
   ]
  },
  {
   "cell_type": "code",
   "execution_count": null,
   "metadata": {},
   "outputs": [],
   "source": [
    "# what does np.polyfit do"
   ]
  },
  {
   "cell_type": "markdown",
   "metadata": {},
   "source": []
  },
  {
   "cell_type": "code",
   "execution_count": null,
   "metadata": {},
   "outputs": [],
   "source": [
    "# what does np.poly1d do"
   ]
  },
  {
   "attachments": {},
   "cell_type": "markdown",
   "metadata": {},
   "source": [
    "Credit to: composingprograms.com (see CS61A website textbook for more info)"
   ]
  }
 ],
 "metadata": {
  "kernelspec": {
   "display_name": "base",
   "language": "python",
   "name": "python3"
  },
  "language_info": {
   "codemirror_mode": {
    "name": "ipython",
    "version": 3
   },
   "file_extension": ".py",
   "mimetype": "text/x-python",
   "name": "python",
   "nbconvert_exporter": "python",
   "pygments_lexer": "ipython3",
   "version": "3.9.13"
  },
  "orig_nbformat": 4,
  "vscode": {
   "interpreter": {
    "hash": "49a1a129dd8612579fe446c948a331f966f8bfeafeb0b6d106f0e28724912c2b"
   }
  }
 },
 "nbformat": 4,
 "nbformat_minor": 2
}
