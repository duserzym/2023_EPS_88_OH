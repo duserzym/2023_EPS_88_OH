{
 "cells": [
  {
   "attachments": {},
   "cell_type": "markdown",
   "metadata": {},
   "source": [
    "# Week 2 Office Hours: Brief Intro to NumPy\n",
    "\n",
    "- Since we began using NumPy recently, here's some more info on NumPy and important functions/commands!"
   ]
  },
  {
   "attachments": {},
   "cell_type": "markdown",
   "metadata": {},
   "source": [
    "## What is NumPy?"
   ]
  },
  {
   "attachments": {},
   "cell_type": "markdown",
   "metadata": {},
   "source": [
    "- Numerical Python\n",
    "\n",
    "- A very efficient and essential open-source library used to work with arrays.\n",
    "\n",
    "- Also a foundation for SciPy, Scikit-learn, and Pandas\n",
    "\n",
    "- Imported as 'np' for easier readability."
   ]
  },
  {
   "cell_type": "code",
   "execution_count": null,
   "metadata": {},
   "outputs": [],
   "source": [
    "# import the NumPy package\n",
    "\n",
    "import numpy as np"
   ]
  },
  {
   "attachments": {},
   "cell_type": "markdown",
   "metadata": {},
   "source": [
    "## NumPy Arrays: The Basics"
   ]
  },
  {
   "attachments": {},
   "cell_type": "markdown",
   "metadata": {},
   "source": [
    "First... what is an array?"
   ]
  },
  {
   "attachments": {},
   "cell_type": "markdown",
   "metadata": {},
   "source": [
    "Array - data structure that can store more than one item of the same data type (integers, floats, strings)\n",
    "- 1D NumPy array: vector\n",
    "\n",
    "- 2D NumPy array: matrix\n",
    "\n",
    "- 3D NumPy array: tensor\n",
    "\n",
    "- ..."
   ]
  },
  {
   "cell_type": "code",
   "execution_count": null,
   "metadata": {},
   "outputs": [],
   "source": [
    "# create an array using np.array()\n",
    "print(f\"{np.array([1, 2, 3, 4, 5])}\\n\")                        # 1D array\n",
    "print(f\"{np.array([[1, 2, 3], [4, 5, 6]])}\\n\")                 # 2D array\n",
    "print(f\"{np.array([[[1, 2, 3], [4, 5, 6], [7, 8, 9]]])}\\n\")    # 3D array"
   ]
  },
  {
   "cell_type": "code",
   "execution_count": null,
   "metadata": {},
   "outputs": [],
   "source": [
    "# create an array of values between 1 and 8 (not including 8)\n",
    "\n",
    "np.arange(1, 6)"
   ]
  },
  {
   "cell_type": "code",
   "execution_count": null,
   "metadata": {},
   "outputs": [],
   "source": [
    "# some helpful array functions\n",
    "\n",
    "zeros = np.zeros((4,3))              # creates a 4x3 array with 0 (floats)\n",
    "ones = np.ones([4,3], dtype=int)     # creates a 4x3 array with 1 (int)\n",
    "eights = np.full((4, 3), 8)          # creates a 4x3 array with 8\n",
    "\n",
    "print(f\"{zeros}\\n\")\n",
    "print(f\"{ones}\\n\")\n",
    "print(f\"{eights}\\n\")"
   ]
  },
  {
   "attachments": {},
   "cell_type": "markdown",
   "metadata": {},
   "source": [
    "### Shape of an Array\n",
    "\n",
    "- number of elements in each dimension\n",
    "- dimension: simply, the number of sets of brackets"
   ]
  },
  {
   "cell_type": "code",
   "execution_count": null,
   "metadata": {},
   "outputs": [],
   "source": [
    "#__.ndim returns the dimensions of an array\n",
    "\n",
    "three_d = np.array([[[1, 2, 3], [4, 5, 6], [7, 8, 9]]])   # 3D array\n",
    "another_three_d = np.zeros([1, 3, 3])                     # another 3D array\n",
    "three_d.ndim"
   ]
  },
  {
   "cell_type": "code",
   "execution_count": null,
   "metadata": {},
   "outputs": [],
   "source": [
    "#__.shape normally returns the number of rows and columns (for 2D) \n",
    "matrix = np.ones([4, 8])\n",
    "print(matrix.shape)                  # prints out (4, 8)\n",
    "\n",
    "vector = np.ones([8])\n",
    "print(vector.shape)                  # prints out (8, )\n",
    "\n",
    "tensor = np.ones([2, 4, 8])          # prints out (2, 4, 8)\n",
    "print(tensor.shape)"
   ]
  },
  {
   "cell_type": "code",
   "execution_count": null,
   "metadata": {},
   "outputs": [],
   "source": [
    "# __.reshape() means to change the shape of an array\n",
    "# make sure the number of elements is the same between new arr and old arr\n",
    "# makes data wrangling\n",
    "\n",
    "flat_array = np.array([1, 2, 3, 4, 5, 6, 7, 8])     # 1D array\n",
    "two_d_arr = flat_array.reshape(2, 2, 2)             # 3D array \n",
    "python_guess = flat_array.reshape(2, 2, -1)         # ? array\n",
    "flatten_arr = two_d_arr.reshape(-1)                 # back to 1D"
   ]
  },
  {
   "attachments": {},
   "cell_type": "markdown",
   "metadata": {},
   "source": [
    "### Some NumPy Operations in Earth Science\n",
    "\n",
    "- Brief intro (if time) for some basic NumPy operations useful in Earth Sciences"
   ]
  },
  {
   "cell_type": "code",
   "execution_count": null,
   "metadata": {},
   "outputs": [],
   "source": [
    "# reduction operations (called reduction operations because they reduce an array down)\n",
    "\n",
    "sum_arr = flat_array.sum()    # sum\n",
    "mean_arr = flat_array.mean()   # mean\n",
    "std_arr = flat_array.std()    # standard deviation\n"
   ]
  },
  {
   "cell_type": "code",
   "execution_count": null,
   "metadata": {},
   "outputs": [],
   "source": [
    "# trig functions (sin, cos, tan) (important in plotting curves)\n",
    "\n",
    "sin_45 = np.sin(45)                  # sine in degrees\n",
    "sin_45 = np.sin(45 * np.pi/180)      # sine in radians\n",
    "print(sin_45)\n",
    "\n",
    "cos_45 = np.cos(45)                  # cos in degrees\n",
    "cos_45 = np.cos(45 * np.pi/180)      # cos in radians\n",
    "print(cos_45)\n",
    "\n",
    "tan_45 = np.tan(45)                  # tan in degrees\n",
    "tan_45 = np.tan(45 * np.pi/180)      # tan in radians\n",
    "print(tan_45)"
   ]
  },
  {
   "cell_type": "code",
   "execution_count": null,
   "metadata": {},
   "outputs": [],
   "source": [
    "# It is also useful to know how to convert degrees into radians when plotting (pi is universal; relates angles and degrees)\n",
    "# can be also used on single elements\n",
    "\n",
    "zero_to_ninety_degrees = np.arange(10) * 90\n",
    "zero_to_ninety_radians = np.radians(zero_to_ninety_degrees)  # np.radians\n",
    "zero_to_ninety_alt_rad = np.deg2rad(zero_to_ninety_degrees)  # np.deg2rad"
   ]
  },
  {
   "cell_type": "code",
   "execution_count": null,
   "metadata": {},
   "outputs": [],
   "source": [
    "# And if you want to do radians to degrees...\n",
    "\n",
    "convert_to_deg = np.degrees(zero_to_ninety_radians)    # np.degrees\n",
    "convert_to_deg2 = np.rad2deg(zero_to_ninety_radians)   # np.rad2deg"
   ]
  },
  {
   "attachments": {},
   "cell_type": "markdown",
   "metadata": {},
   "source": [
    "Resources from which info for this tutorial was drawn from. \n",
    "\n",
    "Credit: https://www.learndatasci.com/tutorials/applied-introduction-to-numpy-python-tutorial/ \n",
    "\n",
    "Credit: https://earth-env-data-science.github.io/lectures/basic_scipy/numpy_and_matplotlib.html\n",
    "\n"
   ]
  }
 ],
 "metadata": {
  "kernelspec": {
   "display_name": "base",
   "language": "python",
   "name": "python3"
  },
  "language_info": {
   "codemirror_mode": {
    "name": "ipython",
    "version": 3
   },
   "file_extension": ".py",
   "mimetype": "text/x-python",
   "name": "python",
   "nbconvert_exporter": "python",
   "pygments_lexer": "ipython3",
   "version": "3.9.13 (main, Aug 25 2022, 18:29:29) \n[Clang 12.0.0 ]"
  },
  "orig_nbformat": 4,
  "vscode": {
   "interpreter": {
    "hash": "49a1a129dd8612579fe446c948a331f966f8bfeafeb0b6d106f0e28724912c2b"
   }
  }
 },
 "nbformat": 4,
 "nbformat_minor": 2
}
